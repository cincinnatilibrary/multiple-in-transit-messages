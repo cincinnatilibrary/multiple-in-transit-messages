{
 "cells": [
  {
   "cell_type": "code",
   "execution_count": 1,
   "id": "b556a03a-1366-4310-b1b3-a300b3c1c62f",
   "metadata": {
    "tags": []
   },
   "outputs": [],
   "source": [
    "import json\n",
    "import csv\n",
    "from datetime import datetime, timedelta\n",
    "import os\n",
    "\n",
    "from sierra_db import execute_query_yield_rows, get_cursor\n",
    "from chpl_email import send_email\n",
    "\n",
    "from jinja2 import Environment, FileSystemLoader\n",
    "\n",
    "# Set up the Jinja2 environment and load the template\n",
    "env = Environment(loader=FileSystemLoader('.'))\n",
    "template = env.get_template('template.html')\n",
    "\n",
    "try:\n",
    "    with open('config.json') as f:\n",
    "        config = json.load(f)\n",
    "        dsn = config['dsn']\n",
    "except Exception as e:\n",
    "    print(e)\n",
    "    \n",
    "directory = \"./output\"\n",
    "\n",
    "# Check if the directory exists\n",
    "if not os.path.exists(directory):\n",
    "    # If the directory doesn't exist, create it\n",
    "    os.makedirs(directory)\n",
    "    \n",
    "# Get the current date and format it as a string\n",
    "date_str = datetime.now().strftime(\"%Y-%m-%d\")\n",
    "\n",
    "\n",
    "# Now you can use this directory to save your file\n",
    "filename = f\"multiple_in_transit_messages_{date_str}.csv\"\n",
    "filepath = os.path.join(directory, filename)"
   ]
  },
  {
   "cell_type": "code",
   "execution_count": 2,
   "id": "8effa854-76bc-4387-8fb0-003e6928767d",
   "metadata": {},
   "outputs": [
    {
     "name": "stdout",
     "output_type": "stream",
     "text": [
      "..done (56)\n"
     ]
    }
   ],
   "source": [
    "sql = \"\"\"\\\n",
    "with item_message_data as (\n",
    "    select \n",
    "        ir.record_id as item_record_id,\n",
    "        json_agg(v.field_content order by v.occ_num) as messages\n",
    "    from \n",
    "        sierra_view.item_record as ir \n",
    "        join sierra_view.varfield as v on (\n",
    "            v.record_id = ir.record_id \n",
    "            and v.varfield_type_code = 'm'\n",
    "            and v.field_content like '%IN TRANSIT%'\n",
    "        )\n",
    "    where \n",
    "        ir.item_status_code in (    -- item status is ...\n",
    "            't',                    -- in transit\n",
    "            'g'                     -- or long in transit\n",
    "        )\n",
    "    group by\n",
    "        ir.record_id \n",
    "    having\n",
    "        count(*) > 1                -- more than one in transit message\n",
    ")\n",
    "select \n",
    "    --record_id ,\n",
    "    rm.record_type_code || rm.record_num || 'a' as item_record_num,\n",
    "    (\n",
    "        select \n",
    "            v.field_content \n",
    "        from\n",
    "            sierra_view.varfield as v\n",
    "        where\n",
    "            v.record_id = d.item_record_id\n",
    "            and v.varfield_type_code = 'b'\n",
    "        order by\n",
    "            v.occ_num \n",
    "        limit 1\n",
    "    ) as item_barcode,\n",
    "    messages\n",
    "from \n",
    "    item_message_data as d\n",
    "    join sierra_view.record_metadata as rm on\n",
    "        rm.id = d.item_record_id\n",
    "\"\"\"\n",
    "\n",
    "with get_cursor(dsn=dsn) as cursor:\n",
    "    rows = execute_query_yield_rows(cursor, sql, None)\n",
    "    \n",
    "    with open(filepath, 'w') as f:\n",
    "        writer = csv.writer(f)\n",
    "        columns = next(rows)\n",
    "        writer.writerow(columns)\n",
    "        \n",
    "        # Initialize an empty list to store the data for the template\n",
    "        data = []\n",
    "        \n",
    "        for i, row in enumerate(rows):\n",
    "            writer.writerow(row)\n",
    "            \n",
    "            # Add this row's data to the list for the template\n",
    "            data.append(dict(zip(columns, row)))\n",
    "            \n",
    "            if i % 1000 == 0:\n",
    "                print('.', end='')\n",
    "        print(f'.done ({i+1})')"
   ]
  },
  {
   "cell_type": "code",
   "execution_count": 3,
   "id": "e63c6a83-3959-4ddd-8d20-1e6f6ba4ddc3",
   "metadata": {
    "tags": []
   },
   "outputs": [],
   "source": [
    "# Render the template with the data\n",
    "html = template.render(results=data)\n",
    "\n",
    "# Now you can use the HTML string however you like, e.g., write it to a file or send it in an email\n",
    "with open('report.html', 'w') as f:\n",
    "    f.write(html)\n",
    "\n",
    "html = template.render(results=data)"
   ]
  },
  {
   "cell_type": "code",
   "execution_count": 4,
   "id": "2602ad72-bafa-409d-aabf-9e72d8c84982",
   "metadata": {
    "tags": []
   },
   "outputs": [],
   "source": [
    "send_email(\n",
    "    smtp_username=config['smtp_username'], \n",
    "    smtp_password=config['smtp_password'], \n",
    "    subject=\"Multiple Intransit Messages Report\", \n",
    "    message=\"See attached.\",\n",
    "    html=html,\n",
    "    from_addr=\"ray.voelker@chpl.org\", \n",
    "    to_addr=config['send_list'], \n",
    "    files=[filepath, 'report.html']\n",
    ")"
   ]
  },
  {
   "cell_type": "code",
   "execution_count": 5,
   "id": "ea9477ba-ea5e-4336-a2df-04597faba749",
   "metadata": {
    "tags": []
   },
   "outputs": [],
   "source": [
    "# os.path.basename(filepath)"
   ]
  }
 ],
 "metadata": {
  "kernelspec": {
   "display_name": "Python 3 (ipykernel)",
   "language": "python",
   "name": "python3"
  },
  "language_info": {
   "codemirror_mode": {
    "name": "ipython",
    "version": 3
   },
   "file_extension": ".py",
   "mimetype": "text/x-python",
   "name": "python",
   "nbconvert_exporter": "python",
   "pygments_lexer": "ipython3",
   "version": "3.7.3"
  }
 },
 "nbformat": 4,
 "nbformat_minor": 5
}
